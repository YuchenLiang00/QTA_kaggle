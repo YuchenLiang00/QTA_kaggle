{
 "cells": [
  {
   "cell_type": "markdown",
   "id": "purple-thanksgiving",
   "metadata": {
    "papermill": {
     "duration": 0.0095,
     "end_time": "2021-06-09T20:41:51.199867",
     "exception": false,
     "start_time": "2021-06-09T20:41:51.190367",
     "status": "completed"
    },
    "tags": []
   },
   "source": [
    "[Apache Parquet](https://arrow.apache.org/docs/python/parquet.html) is an efficient columnar storage format. Compared to saving this dataset in csvs using parquet:\n",
    "- Greatly reduces the necessary disk space\n",
    "- Loads the data into Pandas with memory efficient datatypes\n",
    "- Enables fast reads from disk\n",
    "- Allows us to easily work with partitions of the data\n",
    "\n",
    "Pandas has a parquet integration that makes loading data into a dataframe trivial; we'll try that now."
   ]
  },
  {
   "cell_type": "code",
   "execution_count": 1,
   "id": "smooth-updating",
   "metadata": {
    "_cell_guid": "b1076dfc-b9ad-4769-8c92-a6c4dae69d19",
    "_uuid": "8f2839f25d086af736a60e9eeb907d3b93b6e0e5",
    "execution": {
     "iopub.execute_input": "2021-06-09T20:41:51.227644Z",
     "iopub.status.busy": "2021-06-09T20:41:51.226973Z",
     "iopub.status.idle": "2021-06-09T20:41:51.230857Z",
     "shell.execute_reply": "2021-06-09T20:41:51.230079Z",
     "shell.execute_reply.started": "2021-06-09T20:36:44.380567Z"
    },
    "papermill": {
     "duration": 0.022595,
     "end_time": "2021-06-09T20:41:51.231041",
     "exception": false,
     "start_time": "2021-06-09T20:41:51.208446",
     "status": "completed"
    },
    "tags": []
   },
   "outputs": [],
   "source": [
    "import pandas as pd"
   ]
  },
  {
   "cell_type": "code",
   "execution_count": 2,
   "id": "recovered-halloween",
   "metadata": {
    "execution": {
     "iopub.execute_input": "2021-06-09T20:41:51.252720Z",
     "iopub.status.busy": "2021-06-09T20:41:51.252098Z",
     "iopub.status.idle": "2021-06-09T20:42:13.694177Z",
     "shell.execute_reply": "2021-06-09T20:42:13.695518Z",
     "shell.execute_reply.started": "2021-06-09T20:36:45.299663Z"
    },
    "papermill": {
     "duration": 22.457304,
     "end_time": "2021-06-09T20:42:13.696461",
     "exception": false,
     "start_time": "2021-06-09T20:41:51.239157",
     "status": "completed"
    },
    "tags": []
   },
   "outputs": [],
   "source": [
    "book_train = pd.read_parquet('../input/optiver-realized-volatility-prediction/book_train.parquet')"
   ]
  },
  {
   "cell_type": "markdown",
   "id": "social-ministry",
   "metadata": {
    "papermill": {
     "duration": 0.009039,
     "end_time": "2021-06-09T20:42:13.720583",
     "exception": false,
     "start_time": "2021-06-09T20:42:13.711544",
     "status": "completed"
    },
    "tags": []
   },
   "source": [
    "If this data were stored as a csv, the numeric types would all default to the 64 bit versions. Parquet retains the more efficient types I specified while saving the data.\n",
    "\n",
    "**Expect memory usage to spike to roughly double the final dataframe size while parquet loads a file. Consider loading your largest dataset first or using partitions to mitigate this.**"
   ]
  },
  {
   "cell_type": "code",
   "execution_count": 3,
   "id": "threaded-confidentiality",
   "metadata": {
    "execution": {
     "iopub.execute_input": "2021-06-09T20:42:13.746496Z",
     "iopub.status.busy": "2021-06-09T20:42:13.745428Z",
     "iopub.status.idle": "2021-06-09T20:42:13.829444Z",
     "shell.execute_reply": "2021-06-09T20:42:13.828597Z",
     "shell.execute_reply.started": "2021-06-09T20:37:02.716728Z"
    },
    "papermill": {
     "duration": 0.099719,
     "end_time": "2021-06-09T20:42:13.829669",
     "exception": false,
     "start_time": "2021-06-09T20:42:13.729950",
     "status": "completed"
    },
    "tags": []
   },
   "outputs": [
    {
     "name": "stdout",
     "output_type": "stream",
     "text": [
      "<class 'pandas.core.frame.DataFrame'>\n",
      "RangeIndex: 167253289 entries, 0 to 167253288\n",
      "Data columns (total 11 columns):\n",
      " #   Column             Dtype   \n",
      "---  ------             -----   \n",
      " 0   time_id            int16   \n",
      " 1   seconds_in_bucket  int16   \n",
      " 2   bid_price1         float32 \n",
      " 3   ask_price1         float32 \n",
      " 4   bid_price2         float32 \n",
      " 5   ask_price2         float32 \n",
      " 6   bid_size1          int32   \n",
      " 7   ask_size1          int32   \n",
      " 8   bid_size2          int32   \n",
      " 9   ask_size2          int32   \n",
      " 10  stock_id           category\n",
      "dtypes: category(1), float32(4), int16(2), int32(4)\n",
      "memory usage: 5.8 GB\n"
     ]
    }
   ],
   "source": [
    "book_train.info()"
   ]
  },
  {
   "cell_type": "markdown",
   "id": "atomic-acrylic",
   "metadata": {
    "papermill": {
     "duration": 0.012929,
     "end_time": "2021-06-09T20:42:13.855622",
     "exception": false,
     "start_time": "2021-06-09T20:42:13.842693",
     "status": "completed"
    },
    "tags": []
   },
   "source": [
    "The one exception is the `stock_id` column, which has been converted to the category type as it is [the partition column](https://arrow.apache.org/docs/python/parquet.html#reading-from-partitioned-datasets). The parquet files in this dataset are all paritioned by `stock_id` so that it's not necessary to load the entire file at once. In fact, if you examine the parquet files you'll see that they are actually directories."
   ]
  },
  {
   "cell_type": "code",
   "execution_count": 4,
   "id": "insured-morgan",
   "metadata": {
    "execution": {
     "iopub.execute_input": "2021-06-09T20:42:13.899250Z",
     "iopub.status.busy": "2021-06-09T20:42:13.896874Z",
     "iopub.status.idle": "2021-06-09T20:42:16.269750Z",
     "shell.execute_reply": "2021-06-09T20:42:16.270312Z",
     "shell.execute_reply.started": "2021-06-09T20:37:02.746339Z"
    },
    "papermill": {
     "duration": 2.403426,
     "end_time": "2021-06-09T20:42:16.270500",
     "exception": false,
     "start_time": "2021-06-09T20:42:13.867074",
     "status": "completed"
    },
    "tags": []
   },
   "outputs": [
    {
     "name": "stdout",
     "output_type": "stream",
     "text": [
      "stock_id=0\r\n",
      "stock_id=1\r\n",
      "stock_id=10\r\n",
      "stock_id=100\r\n",
      "stock_id=101\r\n"
     ]
    }
   ],
   "source": [
    "! ls ../input/optiver-realized-volatility-prediction/book_train.parquet | head -n 5"
   ]
  },
  {
   "cell_type": "markdown",
   "id": "agricultural-variation",
   "metadata": {
    "execution": {
     "iopub.execute_input": "2021-06-09T20:05:53.346883Z",
     "iopub.status.busy": "2021-06-09T20:05:53.346473Z",
     "iopub.status.idle": "2021-06-09T20:05:53.353962Z",
     "shell.execute_reply": "2021-06-09T20:05:53.352397Z",
     "shell.execute_reply.started": "2021-06-09T20:05:53.346851Z"
    },
    "papermill": {
     "duration": 0.012114,
     "end_time": "2021-06-09T20:42:16.292949",
     "exception": false,
     "start_time": "2021-06-09T20:42:16.280835",
     "status": "completed"
    },
    "tags": []
   },
   "source": [
    "Those are in turn also directories, which would be relevant if the data were partitioned by more than one column."
   ]
  },
  {
   "cell_type": "code",
   "execution_count": 5,
   "id": "mounted-position",
   "metadata": {
    "execution": {
     "iopub.execute_input": "2021-06-09T20:42:16.324742Z",
     "iopub.status.busy": "2021-06-09T20:42:16.323844Z",
     "iopub.status.idle": "2021-06-09T20:42:17.292774Z",
     "shell.execute_reply": "2021-06-09T20:42:17.293257Z",
     "shell.execute_reply.started": "2021-06-09T20:37:03.828010Z"
    },
    "papermill": {
     "duration": 0.988081,
     "end_time": "2021-06-09T20:42:17.293464",
     "exception": false,
     "start_time": "2021-06-09T20:42:16.305383",
     "status": "completed"
    },
    "tags": []
   },
   "outputs": [
    {
     "name": "stdout",
     "output_type": "stream",
     "text": [
      "c439ef22282f412ba39e9137a3fdabac.parquet\r\n"
     ]
    }
   ],
   "source": [
    "! ls ../input/optiver-realized-volatility-prediction/book_train.parquet/stock_id=0/"
   ]
  },
  {
   "cell_type": "code",
   "execution_count": 6,
   "id": "particular-robinson",
   "metadata": {
    "execution": {
     "iopub.execute_input": "2021-06-09T20:42:17.316579Z",
     "iopub.status.busy": "2021-06-09T20:42:17.315559Z",
     "iopub.status.idle": "2021-06-09T20:42:17.960685Z",
     "shell.execute_reply": "2021-06-09T20:42:17.961759Z",
     "shell.execute_reply.started": "2021-06-09T20:37:41.034806Z"
    },
    "papermill": {
     "duration": 0.659436,
     "end_time": "2021-06-09T20:42:17.961964",
     "exception": false,
     "start_time": "2021-06-09T20:42:17.302528",
     "status": "completed"
    },
    "tags": []
   },
   "outputs": [
    {
     "name": "stdout",
     "output_type": "stream",
     "text": [
      "<class 'pandas.core.frame.DataFrame'>\n",
      "RangeIndex: 917553 entries, 0 to 917552\n",
      "Data columns (total 10 columns):\n",
      " #   Column             Non-Null Count   Dtype  \n",
      "---  ------             --------------   -----  \n",
      " 0   time_id            917553 non-null  int16  \n",
      " 1   seconds_in_bucket  917553 non-null  int16  \n",
      " 2   bid_price1         917553 non-null  float32\n",
      " 3   ask_price1         917553 non-null  float32\n",
      " 4   bid_price2         917553 non-null  float32\n",
      " 5   ask_price2         917553 non-null  float32\n",
      " 6   bid_size1          917553 non-null  int32  \n",
      " 7   ask_size1          917553 non-null  int32  \n",
      " 8   bid_size2          917553 non-null  int32  \n",
      " 9   ask_size2          917553 non-null  int32  \n",
      "dtypes: float32(4), int16(2), int32(4)\n",
      "memory usage: 31.5 MB\n"
     ]
    }
   ],
   "source": [
    "book_train_0 = pd.read_parquet('../input/optiver-realized-volatility-prediction/book_train.parquet/stock_id=0/c439ef22282f412ba39e9137a3fdabac.parquet')\n",
    "book_train_0.info()"
   ]
  },
  {
   "cell_type": "markdown",
   "id": "collaborative-prague",
   "metadata": {
    "execution": {
     "iopub.execute_input": "2021-06-09T20:23:35.872424Z",
     "iopub.status.busy": "2021-06-09T20:23:35.871533Z",
     "iopub.status.idle": "2021-06-09T20:23:35.881708Z",
     "shell.execute_reply": "2021-06-09T20:23:35.880548Z",
     "shell.execute_reply.started": "2021-06-09T20:23:35.87237Z"
    },
    "papermill": {
     "duration": 0.008829,
     "end_time": "2021-06-09T20:42:17.980793",
     "exception": false,
     "start_time": "2021-06-09T20:42:17.971964",
     "status": "completed"
    },
    "tags": []
   },
   "source": [
    "Note that because we loaded a single partition, **the partition column was not included**. We could remedy that manually if we need the stock ID or just load a larger subset of the data by passing a list of paths. This will load all of the stock IDs 110-119, reducing memory usesage without implicitly dropping the partition column:"
   ]
  },
  {
   "cell_type": "code",
   "execution_count": 7,
   "id": "continuous-tracy",
   "metadata": {
    "execution": {
     "iopub.execute_input": "2021-06-09T20:42:18.005913Z",
     "iopub.status.busy": "2021-06-09T20:42:18.005208Z",
     "iopub.status.idle": "2021-06-09T20:42:20.663517Z",
     "shell.execute_reply": "2021-06-09T20:42:20.663011Z"
    },
    "papermill": {
     "duration": 2.674135,
     "end_time": "2021-06-09T20:42:20.663662",
     "exception": false,
     "start_time": "2021-06-09T20:42:17.989527",
     "status": "completed"
    },
    "tags": []
   },
   "outputs": [
    {
     "name": "stdout",
     "output_type": "stream",
     "text": [
      "<class 'pandas.core.frame.DataFrame'>\n",
      "RangeIndex: 14006182 entries, 0 to 14006181\n",
      "Data columns (total 11 columns):\n",
      " #   Column             Dtype   \n",
      "---  ------             -----   \n",
      " 0   time_id            int16   \n",
      " 1   seconds_in_bucket  int16   \n",
      " 2   bid_price1         float32 \n",
      " 3   ask_price1         float32 \n",
      " 4   bid_price2         float32 \n",
      " 5   ask_price2         float32 \n",
      " 6   bid_size1          int32   \n",
      " 7   ask_size1          int32   \n",
      " 8   bid_size2          int32   \n",
      " 9   ask_size2          int32   \n",
      " 10  stock_id           category\n",
      "dtypes: category(1), float32(4), int16(2), int32(4)\n",
      "memory usage: 494.2 MB\n"
     ]
    }
   ],
   "source": [
    "import glob\n",
    "subset_paths = glob.glob('../input/optiver-realized-volatility-prediction/book_train.parquet/stock_id=11*/*')\n",
    "book_train_subset = pd.read_parquet(subset_paths)\n",
    "book_train_subset.info()"
   ]
  },
  {
   "cell_type": "code",
   "execution_count": null,
   "id": "cleared-vacation",
   "metadata": {
    "papermill": {
     "duration": 0.010374,
     "end_time": "2021-06-09T20:42:20.683541",
     "exception": false,
     "start_time": "2021-06-09T20:42:20.673167",
     "status": "completed"
    },
    "tags": []
   },
   "outputs": [],
   "source": []
  }
 ],
 "metadata": {
  "kernelspec": {
   "display_name": "Python 3",
   "language": "python",
   "name": "python3"
  },
  "language_info": {
   "codemirror_mode": {
    "name": "ipython",
    "version": 3
   },
   "file_extension": ".py",
   "mimetype": "text/x-python",
   "name": "python",
   "nbconvert_exporter": "python",
   "pygments_lexer": "ipython3",
   "version": "3.7.10"
  },
  "papermill": {
   "default_parameters": {},
   "duration": 38.912113,
   "end_time": "2021-06-09T20:42:22.222088",
   "environment_variables": {},
   "exception": null,
   "input_path": "__notebook__.ipynb",
   "output_path": "__notebook__.ipynb",
   "parameters": {},
   "start_time": "2021-06-09T20:41:43.309975",
   "version": "2.3.3"
  }
 },
 "nbformat": 4,
 "nbformat_minor": 5
}
