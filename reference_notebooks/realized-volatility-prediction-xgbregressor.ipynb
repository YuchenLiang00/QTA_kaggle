{
 "cells": [
  {
   "cell_type": "code",
   "execution_count": 1,
   "id": "9fc892c6",
   "metadata": {
    "_cell_guid": "b1076dfc-b9ad-4769-8c92-a6c4dae69d19",
    "_uuid": "8f2839f25d086af736a60e9eeb907d3b93b6e0e5",
    "execution": {
     "iopub.execute_input": "2023-01-11T09:50:43.772335Z",
     "iopub.status.busy": "2023-01-11T09:50:43.771531Z",
     "iopub.status.idle": "2023-01-11T09:50:44.747706Z",
     "shell.execute_reply": "2023-01-11T09:50:44.746764Z"
    },
    "papermill": {
     "duration": 0.98513,
     "end_time": "2023-01-11T09:50:44.749962",
     "exception": false,
     "start_time": "2023-01-11T09:50:43.764832",
     "status": "completed"
    },
    "tags": []
   },
   "outputs": [
    {
     "name": "stdout",
     "output_type": "stream",
     "text": [
      "./__notebook__.ipynb\n"
     ]
    }
   ],
   "source": [
    "# This Python 3 environment comes with many helpful analytics libraries installed\n",
    "# It is defined by the kaggle/python Docker image: https://github.com/kaggle/docker-python\n",
    "# For example, here's several helpful packages to load\n",
    "\n",
    "import numpy as np # linear algebra\n",
    "import pandas as pd # data processing, CSV file I/O (e.g. pd.read_csv)\n",
    "import glob\n",
    "\n",
    "# https://zhuanlan.zhihu.com/p/180347090\n",
    "from joblib import Parallel, delayed\n",
    "\n",
    "import xgboost as xgb\n",
    "from xgboost.sklearn import XGBRegressor\n",
    "# Input data files are available in the read-only \"../input/\" directory\n",
    "# For example, running this (by clicking run or pressing Shift+Enter) will list all files under the input directory\n",
    "\n",
    "import os\n",
    "for dirname, _, filenames in os.walk('.'):\n",
    "    for filename in filenames:\n",
    "        print(os.path.join(dirname, filename))\n",
    "\n",
    "# You can write up to 20GB to the current directory (/kaggle/working/) that gets preserved as output when you create a version using \"Save & Run All\" \n",
    "# You can also write temporary files to /kaggle/temp/, but they won't be saved outside of the current session"
   ]
  },
  {
   "cell_type": "code",
   "execution_count": 2,
   "id": "96579a4a",
   "metadata": {
    "execution": {
     "iopub.execute_input": "2023-01-11T09:50:44.758104Z",
     "iopub.status.busy": "2023-01-11T09:50:44.757804Z",
     "iopub.status.idle": "2023-01-11T09:50:44.763845Z",
     "shell.execute_reply": "2023-01-11T09:50:44.762923Z"
    },
    "papermill": {
     "duration": 0.012358,
     "end_time": "2023-01-11T09:50:44.765890",
     "exception": false,
     "start_time": "2023-01-11T09:50:44.753532",
     "status": "completed"
    },
    "tags": []
   },
   "outputs": [],
   "source": [
    "def log_return(list_stock_prices):\n",
    "    return np.log(list_stock_prices).diff() \n",
    "\n",
    "def realized_volatility(series_log_return):\n",
    "    return np.sqrt(np.sum(series_log_return**2))\n",
    "\n",
    "def calculate_wap(df):\n",
    "    a1 = df['bid_price1'] * df['ask_size1'] + df['ask_price1'] * df['bid_size1']\n",
    "    b1 = df['bid_size1'] + df['ask_size1']\n",
    "    a2 = df['bid_price2'] * df['ask_size2'] + df['ask_price2'] * df['bid_size2']\n",
    "    b2 = df['bid_size2'] + df['ask_size2']\n",
    "    \n",
    "    x = (a1/b1 + a2/b2)/ 2\n",
    "    \n",
    "    return x"
   ]
  },
  {
   "cell_type": "code",
   "execution_count": 3,
   "id": "33b87a51",
   "metadata": {
    "execution": {
     "iopub.execute_input": "2023-01-11T09:50:44.773420Z",
     "iopub.status.busy": "2023-01-11T09:50:44.773156Z",
     "iopub.status.idle": "2023-01-11T09:50:44.780745Z",
     "shell.execute_reply": "2023-01-11T09:50:44.779812Z"
    },
    "papermill": {
     "duration": 0.013646,
     "end_time": "2023-01-11T09:50:44.782652",
     "exception": false,
     "start_time": "2023-01-11T09:50:44.769006",
     "status": "completed"
    },
    "tags": []
   },
   "outputs": [],
   "source": [
    "def get_stock_stat(stock_id : int, dataType = 'train'):\n",
    "    \n",
    "    book_train_subset = pd.read_parquet(f'../input/optiver-realized-volatility-prediction/book_{dataType}.parquet/stock_id={stock_id}/')\n",
    "    book_train_subset.sort_values(by=['time_id', 'seconds_in_bucket'])\n",
    "\n",
    "    book_train_subset['bas'] = (book_train_subset[['ask_price1', 'ask_price2']].min(axis = 1)\n",
    "                                / book_train_subset[['bid_price1', 'bid_price2']].max(axis = 1)\n",
    "                                - 1)                               \n",
    "\n",
    "    \n",
    "    book_train_subset['wap'] = calculate_wap(book_train_subset)\n",
    "\n",
    "    book_train_subset['log_return'] = (book_train_subset.groupby(by = ['time_id'])['wap'].\n",
    "                                       apply(log_return).\n",
    "                                       reset_index(drop = True).\n",
    "                                       fillna(0)\n",
    "                                      )\n",
    "    \n",
    "    stock_stat = pd.merge(\n",
    "        book_train_subset.groupby(by = ['time_id'])['log_return'].agg(realized_volatility).reset_index(),\n",
    "        book_train_subset.groupby(by = ['time_id'], as_index = False)['bas'].mean(),\n",
    "        on = ['time_id'],\n",
    "        how = 'left'\n",
    "    )\n",
    "    \n",
    "    stock_stat.insert(0, \"stock_id\", stock_id)  #第一列插入\n",
    "    \n",
    "    return stock_stat"
   ]
  },
  {
   "cell_type": "code",
   "execution_count": 4,
   "id": "63171113",
   "metadata": {
    "execution": {
     "iopub.execute_input": "2023-01-11T09:50:44.789894Z",
     "iopub.status.busy": "2023-01-11T09:50:44.789635Z",
     "iopub.status.idle": "2023-01-11T09:50:44.794236Z",
     "shell.execute_reply": "2023-01-11T09:50:44.793340Z"
    },
    "papermill": {
     "duration": 0.010419,
     "end_time": "2023-01-11T09:50:44.796153",
     "exception": false,
     "start_time": "2023-01-11T09:50:44.785734",
     "status": "completed"
    },
    "tags": []
   },
   "outputs": [],
   "source": [
    "def get_dataSet(stock_ids : list, dataType = 'train'):\n",
    "\n",
    "    stock_stat = Parallel(n_jobs=-1)(\n",
    "        delayed(get_stock_stat)(stock_id, dataType) \n",
    "        for stock_id in stock_ids\n",
    "    )\n",
    "    \n",
    "    stock_stat_df = pd.concat(stock_stat, ignore_index = True)\n",
    "\n",
    "    return stock_stat_df"
   ]
  },
  {
   "cell_type": "code",
   "execution_count": 5,
   "id": "8134186c",
   "metadata": {
    "execution": {
     "iopub.execute_input": "2023-01-11T09:50:44.803875Z",
     "iopub.status.busy": "2023-01-11T09:50:44.803126Z",
     "iopub.status.idle": "2023-01-11T09:50:44.807266Z",
     "shell.execute_reply": "2023-01-11T09:50:44.806320Z"
    },
    "papermill": {
     "duration": 0.009919,
     "end_time": "2023-01-11T09:50:44.809156",
     "exception": false,
     "start_time": "2023-01-11T09:50:44.799237",
     "status": "completed"
    },
    "tags": []
   },
   "outputs": [],
   "source": [
    "#train = pd.read_csv('../input/optiver-realized-volatility-prediction/train.csv')\n",
    "\n",
    "#train_stock_stat_df = get_dataSet(stock_ids = train['stock_id'].unique(), dataType = 'train')\n",
    "#train_dataSet = pd.merge(train, train_stock_stat_df, on = ['stock_id', 'time_id'], how = 'left')"
   ]
  },
  {
   "cell_type": "code",
   "execution_count": 6,
   "id": "dcc20866",
   "metadata": {
    "execution": {
     "iopub.execute_input": "2023-01-11T09:50:44.816827Z",
     "iopub.status.busy": "2023-01-11T09:50:44.816072Z",
     "iopub.status.idle": "2023-01-11T09:50:45.278181Z",
     "shell.execute_reply": "2023-01-11T09:50:45.277231Z"
    },
    "papermill": {
     "duration": 0.46823,
     "end_time": "2023-01-11T09:50:45.280468",
     "exception": false,
     "start_time": "2023-01-11T09:50:44.812238",
     "status": "completed"
    },
    "tags": []
   },
   "outputs": [
    {
     "data": {
      "text/html": [
       "<div>\n",
       "<style scoped>\n",
       "    .dataframe tbody tr th:only-of-type {\n",
       "        vertical-align: middle;\n",
       "    }\n",
       "\n",
       "    .dataframe tbody tr th {\n",
       "        vertical-align: top;\n",
       "    }\n",
       "\n",
       "    .dataframe thead th {\n",
       "        text-align: right;\n",
       "    }\n",
       "</style>\n",
       "<table border=\"1\" class=\"dataframe\">\n",
       "  <thead>\n",
       "    <tr style=\"text-align: right;\">\n",
       "      <th></th>\n",
       "      <th>stock_id</th>\n",
       "      <th>time_id</th>\n",
       "      <th>target</th>\n",
       "      <th>log_return</th>\n",
       "      <th>bas</th>\n",
       "    </tr>\n",
       "  </thead>\n",
       "  <tbody>\n",
       "    <tr>\n",
       "      <th>0</th>\n",
       "      <td>0</td>\n",
       "      <td>5</td>\n",
       "      <td>0.004136</td>\n",
       "      <td>0.004115</td>\n",
       "      <td>0.000852</td>\n",
       "    </tr>\n",
       "    <tr>\n",
       "      <th>1</th>\n",
       "      <td>0</td>\n",
       "      <td>11</td>\n",
       "      <td>0.001445</td>\n",
       "      <td>0.001268</td>\n",
       "      <td>0.000394</td>\n",
       "    </tr>\n",
       "    <tr>\n",
       "      <th>2</th>\n",
       "      <td>0</td>\n",
       "      <td>16</td>\n",
       "      <td>0.002168</td>\n",
       "      <td>0.002719</td>\n",
       "      <td>0.000725</td>\n",
       "    </tr>\n",
       "    <tr>\n",
       "      <th>3</th>\n",
       "      <td>0</td>\n",
       "      <td>31</td>\n",
       "      <td>0.002195</td>\n",
       "      <td>0.002625</td>\n",
       "      <td>0.000861</td>\n",
       "    </tr>\n",
       "    <tr>\n",
       "      <th>4</th>\n",
       "      <td>0</td>\n",
       "      <td>62</td>\n",
       "      <td>0.001747</td>\n",
       "      <td>0.001901</td>\n",
       "      <td>0.000397</td>\n",
       "    </tr>\n",
       "  </tbody>\n",
       "</table>\n",
       "</div>"
      ],
      "text/plain": [
       "   stock_id  time_id    target  log_return       bas\n",
       "0         0        5  0.004136    0.004115  0.000852\n",
       "1         0       11  0.001445    0.001268  0.000394\n",
       "2         0       16  0.002168    0.002719  0.000725\n",
       "3         0       31  0.002195    0.002625  0.000861\n",
       "4         0       62  0.001747    0.001901  0.000397"
      ]
     },
     "execution_count": 6,
     "metadata": {},
     "output_type": "execute_result"
    }
   ],
   "source": [
    "train_dataSet = pd.read_csv(\"../input/optiverrealizedvolatilitydatasets/optiver-realized-volatility-datasets.csv\")\n",
    "train_dataSet.head()"
   ]
  },
  {
   "cell_type": "code",
   "execution_count": 7,
   "id": "1aae7a37",
   "metadata": {
    "execution": {
     "iopub.execute_input": "2023-01-11T09:50:45.289899Z",
     "iopub.status.busy": "2023-01-11T09:50:45.288975Z",
     "iopub.status.idle": "2023-01-11T09:50:45.306692Z",
     "shell.execute_reply": "2023-01-11T09:50:45.305630Z"
    },
    "papermill": {
     "duration": 0.02502,
     "end_time": "2023-01-11T09:50:45.309269",
     "exception": false,
     "start_time": "2023-01-11T09:50:45.284249",
     "status": "completed"
    },
    "tags": []
   },
   "outputs": [
    {
     "data": {
      "text/html": [
       "<div>\n",
       "<style scoped>\n",
       "    .dataframe tbody tr th:only-of-type {\n",
       "        vertical-align: middle;\n",
       "    }\n",
       "\n",
       "    .dataframe tbody tr th {\n",
       "        vertical-align: top;\n",
       "    }\n",
       "\n",
       "    .dataframe thead th {\n",
       "        text-align: right;\n",
       "    }\n",
       "</style>\n",
       "<table border=\"1\" class=\"dataframe\">\n",
       "  <thead>\n",
       "    <tr style=\"text-align: right;\">\n",
       "      <th></th>\n",
       "      <th>log_return</th>\n",
       "      <th>bas</th>\n",
       "    </tr>\n",
       "  </thead>\n",
       "  <tbody>\n",
       "    <tr>\n",
       "      <th>0</th>\n",
       "      <td>0.004115</td>\n",
       "      <td>0.000852</td>\n",
       "    </tr>\n",
       "    <tr>\n",
       "      <th>1</th>\n",
       "      <td>0.001268</td>\n",
       "      <td>0.000394</td>\n",
       "    </tr>\n",
       "    <tr>\n",
       "      <th>2</th>\n",
       "      <td>0.002719</td>\n",
       "      <td>0.000725</td>\n",
       "    </tr>\n",
       "    <tr>\n",
       "      <th>3</th>\n",
       "      <td>0.002625</td>\n",
       "      <td>0.000861</td>\n",
       "    </tr>\n",
       "    <tr>\n",
       "      <th>4</th>\n",
       "      <td>0.001901</td>\n",
       "      <td>0.000397</td>\n",
       "    </tr>\n",
       "  </tbody>\n",
       "</table>\n",
       "</div>"
      ],
      "text/plain": [
       "   log_return       bas\n",
       "0    0.004115  0.000852\n",
       "1    0.001268  0.000394\n",
       "2    0.002719  0.000725\n",
       "3    0.002625  0.000861\n",
       "4    0.001901  0.000397"
      ]
     },
     "execution_count": 7,
     "metadata": {},
     "output_type": "execute_result"
    }
   ],
   "source": [
    "\n",
    "\n",
    "\n",
    "y_train = train_dataSet['target']\n",
    "X_train = train_dataSet.drop(['stock_id', 'time_id', 'target'], axis = 1)\n",
    "X_train.head()"
   ]
  },
  {
   "cell_type": "code",
   "execution_count": 8,
   "id": "b0a1d628",
   "metadata": {
    "execution": {
     "iopub.execute_input": "2023-01-11T09:50:45.317685Z",
     "iopub.status.busy": "2023-01-11T09:50:45.317419Z",
     "iopub.status.idle": "2023-01-11T09:50:45.322350Z",
     "shell.execute_reply": "2023-01-11T09:50:45.321553Z"
    },
    "papermill": {
     "duration": 0.011352,
     "end_time": "2023-01-11T09:50:45.324311",
     "exception": false,
     "start_time": "2023-01-11T09:50:45.312959",
     "status": "completed"
    },
    "tags": []
   },
   "outputs": [],
   "source": [
    "#clf = XGBRegressor(random_state = 0\n",
    "                   #,n_estimators = 200\n",
    "                   #,learning_rate = 0.1\n",
    "                   #,subsample = 0.8\n",
    "                   #,colsample_bytree = 0.8,n_jobs= - 1)\n",
    "\n",
    "#clf.fit(X_train,y_train.to_numpy().ravel())"
   ]
  },
  {
   "cell_type": "code",
   "execution_count": 9,
   "id": "7808ed58",
   "metadata": {
    "execution": {
     "iopub.execute_input": "2023-01-11T09:50:45.332468Z",
     "iopub.status.busy": "2023-01-11T09:50:45.332207Z",
     "iopub.status.idle": "2023-01-11T09:50:50.289805Z",
     "shell.execute_reply": "2023-01-11T09:50:50.289060Z"
    },
    "papermill": {
     "duration": 4.964063,
     "end_time": "2023-01-11T09:50:50.292143",
     "exception": false,
     "start_time": "2023-01-11T09:50:45.328080",
     "status": "completed"
    },
    "tags": []
   },
   "outputs": [
    {
     "data": {
      "text/plain": [
       "XGBRegressor(alpha=0.006342908262784082, base_score=0.5, booster='gbtree',\n",
       "             callbacks=None, colsample_bylevel=1, colsample_bynode=1,\n",
       "             colsample_bytree=1.0, early_stopping_rounds=None,\n",
       "             enable_categorical=False, eval_metric=None, gamma=0, gpu_id=0,\n",
       "             grow_policy='depthwise', importance_type=None,\n",
       "             interaction_constraints='', lambda=1.00952957200908,\n",
       "             learning_rate=0.02, max_bin=256, max_cat_to_onehot=4,\n",
       "             max_delta_step=0, max_depth=7, max_leaves=0, min_child_weight=101,\n",
       "             missing=nan, monotone_constraints='()', n_estimators=617, n_jobs=0,\n",
       "             num_parallel_tree=1, predictor='auto', random_state=2020, ...)"
      ]
     },
     "execution_count": 9,
     "metadata": {},
     "output_type": "execute_result"
    }
   ],
   "source": [
    "params = {'lambda': 1.00952957200908,\n",
    "         'alpha': 0.006342908262784082,\n",
    "         'colsample_bytree': 1.0,\n",
    "         'subsample': 0.4,\n",
    "         'learning_rate': 0.02,\n",
    "         'n_estimators': 617,\n",
    "         'max_depth': 7,\n",
    "         'random_state': 2020,\n",
    "         'min_child_weight': 101}\n",
    "\n",
    "clf = XGBRegressor(**params, tree_method='gpu_hist')\n",
    "clf.fit(X_train,y_train.to_numpy().ravel())"
   ]
  },
  {
   "cell_type": "code",
   "execution_count": 10,
   "id": "705e0fcc",
   "metadata": {
    "execution": {
     "iopub.execute_input": "2023-01-11T09:50:50.301809Z",
     "iopub.status.busy": "2023-01-11T09:50:50.300912Z",
     "iopub.status.idle": "2023-01-11T09:50:51.224145Z",
     "shell.execute_reply": "2023-01-11T09:50:51.222825Z"
    },
    "papermill": {
     "duration": 0.931323,
     "end_time": "2023-01-11T09:50:51.227473",
     "exception": false,
     "start_time": "2023-01-11T09:50:50.296150",
     "status": "completed"
    },
    "tags": []
   },
   "outputs": [],
   "source": [
    "test = pd.read_csv('../input/optiver-realized-volatility-prediction/test.csv')\n",
    "\n",
    "test_stock_stat_df = get_dataSet(stock_ids = test['stock_id'].unique(), dataType = 'test')\n",
    "test_dataSet = pd.merge(test, test_stock_stat_df, on = ['stock_id', 'time_id'], how = 'left')\n",
    "test_dataSet = test_dataSet.drop(['stock_id', 'time_id'], axis = 1)\n",
    "\n",
    "y_pred = test_dataSet[['row_id']]\n",
    "X_test = test_dataSet.drop(['row_id'], axis = 1).fillna(0)"
   ]
  },
  {
   "cell_type": "code",
   "execution_count": 11,
   "id": "d9959ceb",
   "metadata": {
    "execution": {
     "iopub.execute_input": "2023-01-11T09:50:51.237773Z",
     "iopub.status.busy": "2023-01-11T09:50:51.237429Z",
     "iopub.status.idle": "2023-01-11T09:50:51.249055Z",
     "shell.execute_reply": "2023-01-11T09:50:51.248351Z"
    },
    "papermill": {
     "duration": 0.019257,
     "end_time": "2023-01-11T09:50:51.251578",
     "exception": false,
     "start_time": "2023-01-11T09:50:51.232321",
     "status": "completed"
    },
    "tags": []
   },
   "outputs": [],
   "source": [
    "y_pred = y_pred.assign(target = clf.predict(X_test))\n",
    "y_pred.to_csv('submission.csv',index = False)"
   ]
  },
  {
   "cell_type": "code",
   "execution_count": 12,
   "id": "8e4e1fef",
   "metadata": {
    "execution": {
     "iopub.execute_input": "2023-01-11T09:50:51.262170Z",
     "iopub.status.busy": "2023-01-11T09:50:51.261852Z",
     "iopub.status.idle": "2023-01-11T09:50:51.272082Z",
     "shell.execute_reply": "2023-01-11T09:50:51.271136Z"
    },
    "papermill": {
     "duration": 0.017913,
     "end_time": "2023-01-11T09:50:51.274226",
     "exception": false,
     "start_time": "2023-01-11T09:50:51.256313",
     "status": "completed"
    },
    "tags": []
   },
   "outputs": [
    {
     "data": {
      "text/html": [
       "<div>\n",
       "<style scoped>\n",
       "    .dataframe tbody tr th:only-of-type {\n",
       "        vertical-align: middle;\n",
       "    }\n",
       "\n",
       "    .dataframe tbody tr th {\n",
       "        vertical-align: top;\n",
       "    }\n",
       "\n",
       "    .dataframe thead th {\n",
       "        text-align: right;\n",
       "    }\n",
       "</style>\n",
       "<table border=\"1\" class=\"dataframe\">\n",
       "  <thead>\n",
       "    <tr style=\"text-align: right;\">\n",
       "      <th></th>\n",
       "      <th>row_id</th>\n",
       "      <th>target</th>\n",
       "    </tr>\n",
       "  </thead>\n",
       "  <tbody>\n",
       "    <tr>\n",
       "      <th>0</th>\n",
       "      <td>0-4</td>\n",
       "      <td>0.001522</td>\n",
       "    </tr>\n",
       "    <tr>\n",
       "      <th>1</th>\n",
       "      <td>0-32</td>\n",
       "      <td>0.000662</td>\n",
       "    </tr>\n",
       "    <tr>\n",
       "      <th>2</th>\n",
       "      <td>0-34</td>\n",
       "      <td>0.000662</td>\n",
       "    </tr>\n",
       "  </tbody>\n",
       "</table>\n",
       "</div>"
      ],
      "text/plain": [
       "  row_id    target\n",
       "0    0-4  0.001522\n",
       "1   0-32  0.000662\n",
       "2   0-34  0.000662"
      ]
     },
     "execution_count": 12,
     "metadata": {},
     "output_type": "execute_result"
    }
   ],
   "source": [
    "y_pred"
   ]
  },
  {
   "cell_type": "code",
   "execution_count": null,
   "id": "3c6cb258",
   "metadata": {
    "papermill": {
     "duration": 0.003756,
     "end_time": "2023-01-11T09:50:51.282034",
     "exception": false,
     "start_time": "2023-01-11T09:50:51.278278",
     "status": "completed"
    },
    "tags": []
   },
   "outputs": [],
   "source": []
  }
 ],
 "metadata": {
  "kernelspec": {
   "display_name": "Python 3",
   "language": "python",
   "name": "python3"
  },
  "language_info": {
   "codemirror_mode": {
    "name": "ipython",
    "version": 3
   },
   "file_extension": ".py",
   "mimetype": "text/x-python",
   "name": "python",
   "nbconvert_exporter": "python",
   "pygments_lexer": "ipython3",
   "version": "3.7.12"
  },
  "papermill": {
   "default_parameters": {},
   "duration": 17.780516,
   "end_time": "2023-01-11T09:50:54.007125",
   "environment_variables": {},
   "exception": null,
   "input_path": "__notebook__.ipynb",
   "output_path": "__notebook__.ipynb",
   "parameters": {},
   "start_time": "2023-01-11T09:50:36.226609",
   "version": "2.3.4"
  }
 },
 "nbformat": 4,
 "nbformat_minor": 5
}
