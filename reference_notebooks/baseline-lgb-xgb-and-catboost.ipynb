{
 "cells": [
  {
   "cell_type": "code",
   "execution_count": 1,
   "id": "406b901c",
   "metadata": {
    "execution": {
     "iopub.execute_input": "2023-09-23T00:34:26.412752Z",
     "iopub.status.busy": "2023-09-23T00:34:26.412122Z",
     "iopub.status.idle": "2023-09-23T00:34:27.330106Z",
     "shell.execute_reply": "2023-09-23T00:34:27.328519Z"
    },
    "papermill": {
     "duration": 0.927034,
     "end_time": "2023-09-23T00:34:27.333120",
     "exception": false,
     "start_time": "2023-09-23T00:34:26.406086",
     "status": "completed"
    },
    "tags": []
   },
   "outputs": [],
   "source": [
    "import pandas as pd \n",
    "def generate_features(df):\n",
    "    features = ['seconds_in_bucket', 'imbalance_buy_sell_flag',\n",
    "               'imbalance_size', 'matched_size', 'bid_size', 'ask_size',\n",
    "                'reference_price','far_price', 'near_price', 'ask_price', 'bid_price', 'wap',\n",
    "                'imb_s1', 'imb_s2'\n",
    "               ]\n",
    "    \n",
    "    df['imb_s1'] = df.eval('(bid_size-ask_size)/(bid_size+ask_size)')\n",
    "    df['imb_s2'] = df.eval('(imbalance_size-matched_size)/(matched_size+imbalance_size)')\n",
    "    \n",
    "    prices = ['reference_price','far_price', 'near_price', 'ask_price', 'bid_price', 'wap']\n",
    "    \n",
    "    for i,a in enumerate(prices):\n",
    "        for j,b in enumerate(prices):\n",
    "            if i>j:\n",
    "                df[f'{a}_{b}_imb'] = df.eval(f'({a}-{b})/({a}+{b})')\n",
    "                features.append(f'{a}_{b}_imb')    \n",
    "                    \n",
    "    for i,a in enumerate(prices):\n",
    "        for j,b in enumerate(prices):\n",
    "            for k,c in enumerate(prices):\n",
    "                if i>j and j>k:\n",
    "                    max_ = df[[a,b,c]].max(axis=1)\n",
    "                    min_ = df[[a,b,c]].min(axis=1)\n",
    "                    mid_ = df[[a,b,c]].sum(axis=1)-min_-max_\n",
    "\n",
    "                    df[f'{a}_{b}_{c}_imb2'] = (max_-mid_)/(mid_-min_)\n",
    "                    features.append(f'{a}_{b}_{c}_imb2')\n",
    "    \n",
    "    return df[features]\n",
    "\n",
    "TRAINING = False\n",
    "if TRAINING:\n",
    "    df_train = pd.read_csv('/kaggle/input/optiver-trading-at-the-close/train.csv')\n",
    "    df_ = generate_features(df_train)"
   ]
  },
  {
   "cell_type": "code",
   "execution_count": 2,
   "id": "90d1085e",
   "metadata": {
    "execution": {
     "iopub.execute_input": "2023-09-23T00:34:27.344043Z",
     "iopub.status.busy": "2023-09-23T00:34:27.343420Z",
     "iopub.status.idle": "2023-09-23T00:34:44.166925Z",
     "shell.execute_reply": "2023-09-23T00:34:44.165789Z"
    },
    "papermill": {
     "duration": 16.833718,
     "end_time": "2023-09-23T00:34:44.170247",
     "exception": false,
     "start_time": "2023-09-23T00:34:27.336529",
     "status": "completed"
    },
    "tags": []
   },
   "outputs": [],
   "source": [
    "import lightgbm as lgb \n",
    "import xgboost as xgb \n",
    "import catboost as cbt \n",
    "import numpy as np \n",
    "import joblib \n",
    "import os \n",
    "\n",
    "os.system('mkdir models')\n",
    "\n",
    "model_path ='/kaggle/input/optiverbaselinezyz'\n",
    "\n",
    "N_fold = 5\n",
    "\n",
    "if TRAINING:\n",
    "    X = df_.values\n",
    "    Y = df_train['target'].values\n",
    "\n",
    "    X = X[np.isfinite(Y)]\n",
    "    Y = Y[np.isfinite(Y)]\n",
    "\n",
    "    index = np.arange(len(X))\n",
    "\n",
    "models = []\n",
    "\n",
    "def train(model_dict, modelname='lgb'):\n",
    "    if TRAINING:\n",
    "        model = model_dict[modelname]\n",
    "        model.fit(X[index%N_fold!=i], Y[index%N_fold!=i], \n",
    "                    eval_set=[(X[index%N_fold==i], Y[index%N_fold==i])], \n",
    "                    verbose=10, \n",
    "                    early_stopping_rounds=100\n",
    "                    )\n",
    "        models.append(model)\n",
    "        joblib.dump(model, './models/{modelname}_{i}.model')\n",
    "    else:\n",
    "        models.append(joblib.load(f'{model_path}/{modelname}_{i}.model'))\n",
    "    return \n",
    "\n",
    "model_dict = {\n",
    "    'lgb': lgb.LGBMRegressor(objective='regression_l1', n_estimators=500),\n",
    "    'xgb': xgb.XGBRegressor(tree_method='hist', objective='reg:absoluteerror', n_estimators=500),\n",
    "    'cbt': cbt.CatBoostRegressor(objective='MAE', iterations=3000),\n",
    "\n",
    "}\n",
    "\n",
    "for i in range(N_fold):\n",
    "    train(model_dict, 'lgb')\n",
    "#     train(model_dict, 'xgb')\n",
    "    train(model_dict, 'cbt')\n"
   ]
  },
  {
   "cell_type": "code",
   "execution_count": 3,
   "id": "7ef70355",
   "metadata": {
    "execution": {
     "iopub.execute_input": "2023-09-23T00:34:44.178768Z",
     "iopub.status.busy": "2023-09-23T00:34:44.177469Z",
     "iopub.status.idle": "2023-09-23T00:34:44.209007Z",
     "shell.execute_reply": "2023-09-23T00:34:44.207862Z"
    },
    "papermill": {
     "duration": 0.038657,
     "end_time": "2023-09-23T00:34:44.211826",
     "exception": false,
     "start_time": "2023-09-23T00:34:44.173169",
     "status": "completed"
    },
    "tags": []
   },
   "outputs": [],
   "source": [
    "import optiver2023\n",
    "env = optiver2023.make_env()\n",
    "iter_test = env.iter_test()"
   ]
  },
  {
   "cell_type": "code",
   "execution_count": 4,
   "id": "bd795b30",
   "metadata": {
    "execution": {
     "iopub.execute_input": "2023-09-23T00:34:44.220162Z",
     "iopub.status.busy": "2023-09-23T00:34:44.218913Z",
     "iopub.status.idle": "2023-09-23T00:34:44.500844Z",
     "shell.execute_reply": "2023-09-23T00:34:44.499308Z"
    },
    "papermill": {
     "duration": 0.289205,
     "end_time": "2023-09-23T00:34:44.503841",
     "exception": false,
     "start_time": "2023-09-23T00:34:44.214636",
     "status": "completed"
    },
    "tags": []
   },
   "outputs": [
    {
     "name": "stdout",
     "output_type": "stream",
     "text": [
      "This version of the API is not optimized and should not be used to estimate the runtime of your code on the hidden test set.\n"
     ]
    }
   ],
   "source": [
    "counter = 0\n",
    "for (test, revealed_targets, sample_prediction) in iter_test:\n",
    "    feat = generate_features(test)\n",
    "    \n",
    "    sample_prediction['target'] = np.mean([model.predict(feat) for model in models], 0)\n",
    "    env.predict(sample_prediction)\n",
    "    counter += 1"
   ]
  }
 ],
 "metadata": {
  "kernelspec": {
   "display_name": "Python 3",
   "language": "python",
   "name": "python3"
  },
  "language_info": {
   "codemirror_mode": {
    "name": "ipython",
    "version": 3
   },
   "file_extension": ".py",
   "mimetype": "text/x-python",
   "name": "python",
   "nbconvert_exporter": "python",
   "pygments_lexer": "ipython3",
   "version": "3.10.12"
  },
  "papermill": {
   "default_parameters": {},
   "duration": 23.427959,
   "end_time": "2023-09-23T00:34:45.734836",
   "environment_variables": {},
   "exception": null,
   "input_path": "__notebook__.ipynb",
   "output_path": "__notebook__.ipynb",
   "parameters": {},
   "start_time": "2023-09-23T00:34:22.306877",
   "version": "2.4.0"
  }
 },
 "nbformat": 4,
 "nbformat_minor": 5
}
