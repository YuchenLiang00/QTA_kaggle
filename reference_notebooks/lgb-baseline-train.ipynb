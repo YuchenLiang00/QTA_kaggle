{
 "cells": [
  {
   "cell_type": "code",
   "execution_count": 1,
   "id": "30d65d07",
   "metadata": {
    "_cell_guid": "b1076dfc-b9ad-4769-8c92-a6c4dae69d19",
    "_uuid": "8f2839f25d086af736a60e9eeb907d3b93b6e0e5",
    "execution": {
     "iopub.execute_input": "2023-10-11T01:34:51.491213Z",
     "iopub.status.busy": "2023-10-11T01:34:51.490478Z",
     "iopub.status.idle": "2023-10-11T01:34:54.573174Z",
     "shell.execute_reply": "2023-10-11T01:34:54.571749Z"
    },
    "papermill": {
     "duration": 3.092058,
     "end_time": "2023-10-11T01:34:54.575747",
     "exception": false,
     "start_time": "2023-10-11T01:34:51.483689",
     "status": "completed"
    },
    "tags": []
   },
   "outputs": [],
   "source": [
    "import pandas as pd\n",
    "import numpy as np\n",
    "import lightgbm as lgb\n",
    "import gc\n",
    "from itertools import combinations\n",
    "import warnings\n",
    "from sklearn.model_selection import KFold\n",
    "from sklearn.metrics import mean_absolute_error\n",
    "from warnings import simplefilter\n",
    "import joblib\n",
    "\n",
    "warnings.filterwarnings('ignore')\n",
    "simplefilter(action=\"ignore\", category=pd.errors.PerformanceWarning)\n",
    "\n",
    "is_train = False\n",
    "is_infer = True\n",
    "N_Folds = 4"
   ]
  },
  {
   "cell_type": "code",
   "execution_count": 2,
   "id": "6e0506ca",
   "metadata": {
    "execution": {
     "iopub.execute_input": "2023-10-11T01:34:54.584316Z",
     "iopub.status.busy": "2023-10-11T01:34:54.583499Z",
     "iopub.status.idle": "2023-10-11T01:34:54.594677Z",
     "shell.execute_reply": "2023-10-11T01:34:54.593584Z"
    },
    "papermill": {
     "duration": 0.018801,
     "end_time": "2023-10-11T01:34:54.596941",
     "exception": false,
     "start_time": "2023-10-11T01:34:54.578140",
     "status": "completed"
    },
    "tags": []
   },
   "outputs": [
    {
     "data": {
      "text/plain": [
       "0"
      ]
     },
     "execution_count": 2,
     "metadata": {},
     "output_type": "execute_result"
    }
   ],
   "source": [
    "import os\n",
    "os.system('mkdir lgb-models-optv2')"
   ]
  },
  {
   "cell_type": "code",
   "execution_count": 3,
   "id": "3c772cc6",
   "metadata": {
    "execution": {
     "iopub.execute_input": "2023-10-11T01:34:54.603024Z",
     "iopub.status.busy": "2023-10-11T01:34:54.602653Z",
     "iopub.status.idle": "2023-10-11T01:35:15.942080Z",
     "shell.execute_reply": "2023-10-11T01:35:15.940650Z"
    },
    "papermill": {
     "duration": 21.345561,
     "end_time": "2023-10-11T01:35:15.944780",
     "exception": false,
     "start_time": "2023-10-11T01:34:54.599219",
     "status": "completed"
    },
    "tags": []
   },
   "outputs": [],
   "source": [
    "train = pd.read_csv('/kaggle/input/optiver-trading-at-the-close/train.csv')\n",
    "\n",
    "#整体特征\n",
    "median_sizes = train.groupby('stock_id')['bid_size'].median() + train.groupby('stock_id')['ask_size'].median()\n",
    "std_sizes = train.groupby('stock_id')['bid_size'].std() + train.groupby('stock_id')['ask_size'].std()\n",
    "max_sizes = train.groupby('stock_id')['bid_size'].max() + train.groupby('stock_id')['ask_size'].max()\n",
    "min_sizes = train.groupby('stock_id')['bid_size'].min() + train.groupby('stock_id')['ask_size'].min()\n",
    "mean_sizes = train.groupby('stock_id')['bid_size'].mean() + train.groupby('stock_id')['ask_size'].mean()\n",
    "first_sizes = train.groupby('stock_id')['bid_size'].first() + train.groupby('stock_id')['ask_size'].first()\n",
    "last_sizes = train.groupby('stock_id')['bid_size'].last() + train.groupby('stock_id')['ask_size'].last()\n",
    "#可以再做日期的（好像没看到drop掉日期列）\n",
    "\n",
    "train = train.dropna(subset=['target'])"
   ]
  },
  {
   "cell_type": "code",
   "execution_count": 4,
   "id": "eee12d20",
   "metadata": {
    "execution": {
     "iopub.execute_input": "2023-10-11T01:35:15.951444Z",
     "iopub.status.busy": "2023-10-11T01:35:15.951023Z",
     "iopub.status.idle": "2023-10-11T01:35:15.962618Z",
     "shell.execute_reply": "2023-10-11T01:35:15.961416Z"
    },
    "papermill": {
     "duration": 0.017631,
     "end_time": "2023-10-11T01:35:15.964964",
     "exception": false,
     "start_time": "2023-10-11T01:35:15.947333",
     "status": "completed"
    },
    "tags": []
   },
   "outputs": [],
   "source": [
    "def feature_eng(df):\n",
    "    cols = [c for c in df.columns if c not in ['row_id', 'date_id','time_id']]\n",
    "    df = df[cols]\n",
    "    \n",
    "    #匹配失败数量和匹配成功数量的比率\n",
    "    df['imbalance_ratio'] = df['imbalance_size'] / df['matched_size']\n",
    "    #供需市场的差额\n",
    "    df['bid_ask_volume_diff'] = df['ask_size'] - df['bid_size']\n",
    "    #供需市场总和\n",
    "    df['bid_plus_ask_sizes'] = df['bid_size'] + df['ask_size']\n",
    "    \n",
    "    #供需价格的均值\n",
    "    df['mid_price'] = (df['ask_price'] + df['bid_price']) / 2\n",
    "    \n",
    "    #整体数据情况\n",
    "    df['median_size'] = df['stock_id'].map(median_sizes.to_dict())\n",
    "    df['std_size'] = df['stock_id'].map(std_sizes.to_dict())\n",
    "    df['max_size'] = df['stock_id'].map(max_sizes.to_dict())\n",
    "    df['min_size'] = df['stock_id'].map(min_sizes.to_dict())\n",
    "    df['mean_size'] = df['stock_id'].map(mean_sizes.to_dict())\n",
    "    df['first_size'] = df['stock_id'].map(first_sizes.to_dict())    \n",
    "    df['last_size'] = df['stock_id'].map(last_sizes.to_dict())       \n",
    "    \n",
    "    #整体市场规模和当前的市场规模比较\n",
    "    df['high_volume'] = np.where(df['bid_plus_ask_sizes'] > df['median_size'], 1, 0)\n",
    "    \n",
    "    prices = ['reference_price', 'far_price', 'near_price', 'ask_price', 'bid_price', 'wap']\n",
    "    \n",
    "    #价格之间做差，做差/求和\n",
    "    for c in combinations(prices, 2):\n",
    "        df[f'{c[0]}_minus_{c[1]}'] = (df[f'{c[0]}'] - df[f'{c[1]}']).astype(np.float32)\n",
    "        df[f'{c[0]}_{c[1]}_imb'] = df.eval(f'({c[0]} - {c[1]})/({c[0]} + {c[1]})')\n",
    "        \n",
    "    for c in combinations(prices, 3):\n",
    "        max_ = df[list(c)].max(axis=1)\n",
    "        min_ = df[list(c)].min(axis=1)\n",
    "        mid_ = df[list(c)].sum(axis=1) - min_ - max_\n",
    "        \n",
    "        df[f'{c[0]}_{c[1]}_{c[2]}_imb2'] = (max_-mid_)/(mid_-min_)\n",
    "    \n",
    "    gc.collect()\n",
    "    \n",
    "    return df"
   ]
  },
  {
   "cell_type": "code",
   "execution_count": 5,
   "id": "9fb8757b",
   "metadata": {
    "execution": {
     "iopub.execute_input": "2023-10-11T01:35:15.971639Z",
     "iopub.status.busy": "2023-10-11T01:35:15.971235Z",
     "iopub.status.idle": "2023-10-11T01:38:33.620787Z",
     "shell.execute_reply": "2023-10-11T01:38:33.619481Z"
    },
    "papermill": {
     "duration": 197.656311,
     "end_time": "2023-10-11T01:38:33.623760",
     "exception": false,
     "start_time": "2023-10-11T01:35:15.967449",
     "status": "completed"
    },
    "tags": []
   },
   "outputs": [
    {
     "name": "stdout",
     "output_type": "stream",
     "text": [
      "This version of the API is not optimized and should not be used to estimate the runtime of your code on the hidden test set.\n"
     ]
    }
   ],
   "source": [
    "y = train['target'].values\n",
    "X = feature_eng(train.drop(columns='target'))\n",
    "\n",
    "y_min = np.min(y)\n",
    "y_max = np.max(y)\n",
    "\n",
    "params = {\n",
    "    'learning_rate': 0.018,\n",
    "    'max_depth': 9,\n",
    "    'n_estimators': 600,\n",
    "    'num_leaves': 440,\n",
    "    'objective': 'mae',\n",
    "    'random_state': 42,\n",
    "    'reg_alpha': 0.01,\n",
    "    'reg_lambda': 0.01,\n",
    "    #'device': 'gpu'\n",
    "}\n",
    "\n",
    "\n",
    "kf = KFold(n_splits=N_Folds, shuffle=True, random_state=42)\n",
    "mae_scores = []\n",
    "\n",
    "if is_train:\n",
    "    for fold, (train_idx, valid_idx) in enumerate(kf.split(X, y)):\n",
    "        X_train, X_valid = X.iloc[train_idx], X.iloc[valid_idx]\n",
    "        y_train, y_valid = y[train_idx], y[valid_idx]\n",
    "\n",
    "        train_data = lgb.Dataset(X_train, label=y_train)\n",
    "        valid_data = lgb.Dataset(X_valid, label=y_valid)\n",
    "\n",
    "        m = lgb.train(params, train_data, valid_sets=[train_data, valid_data], verbose_eval=50, early_stopping_rounds=50)\n",
    "        print(f\"Fold {fold+1} Trainning finished.\")\n",
    "\n",
    "        model_filename = f\"/kaggle/working/lgb-models-optv2/model_fold_{fold+1}.pkl\"\n",
    "        joblib.dump(m, model_filename)\n",
    "        y_pred_valid = m.predict(X_valid)\n",
    "\n",
    "        y_pred_valid = np.nan_to_num(y_pred_valid)\n",
    "        y_valid = np.nan_to_num(y_valid)\n",
    "        mae = mean_absolute_error(y_valid, y_pred_valid)\n",
    "        mae_scores.append(mae)\n",
    "\n",
    "    # 计算4折平均的MAE\n",
    "    average_mae = np.mean(mae_scores)\n",
    "    print(f\"4 fold MAE: {average_mae}\")\n",
    "\n",
    "def zero_sum(prices, volumes):\n",
    "    std_error = np.sqrt(volumes)\n",
    "    step = np.sum(prices)/np.sum(std_error)\n",
    "    out = prices-std_error*step\n",
    "    \n",
    "    return out\n",
    "\n",
    "\n",
    "if is_infer:\n",
    "    import optiver2023\n",
    "    env = optiver2023.make_env()\n",
    "    iter_test = env.iter_test()\n",
    "    counter = 0\n",
    "    predictions = []\n",
    "\n",
    "    for (test, revealed_targets, sample_prediction) in iter_test:\n",
    "        feat = feature_eng(test)\n",
    "        fold_prediction = 0\n",
    "        for fold in range(0, N_Folds):\n",
    "            model_filename = f\"/kaggle/input/lgb-baseline/lgb-models-optv2/model_fold_{fold+1}.pkl\"\n",
    "            m = joblib.load(model_filename)\n",
    "            fold_prediction += m.predict(feat)   \n",
    "        \n",
    "        fold_prediction /= N_Folds\n",
    "        fold_prediction = zero_sum(fold_prediction, test.loc[:,'bid_size'] + test.loc[:,'ask_size'])\n",
    "        clipped_predictions = np.clip(fold_prediction, y_min, y_max)\n",
    "        sample_prediction['target'] = clipped_predictions\n",
    "        env.predict(sample_prediction)\n",
    "        counter += 1"
   ]
  }
 ],
 "metadata": {
  "kernelspec": {
   "display_name": "Python 3",
   "language": "python",
   "name": "python3"
  },
  "language_info": {
   "codemirror_mode": {
    "name": "ipython",
    "version": 3
   },
   "file_extension": ".py",
   "mimetype": "text/x-python",
   "name": "python",
   "nbconvert_exporter": "python",
   "pygments_lexer": "ipython3",
   "version": "3.10.12"
  },
  "papermill": {
   "default_parameters": {},
   "duration": 226.39604,
   "end_time": "2023-10-11T01:38:34.549858",
   "environment_variables": {},
   "exception": null,
   "input_path": "__notebook__.ipynb",
   "output_path": "__notebook__.ipynb",
   "parameters": {},
   "start_time": "2023-10-11T01:34:48.153818",
   "version": "2.4.0"
  }
 },
 "nbformat": 4,
 "nbformat_minor": 5
}
